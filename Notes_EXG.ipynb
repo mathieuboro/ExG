{
 "cells": [
  {
   "cell_type": "code",
   "execution_count": 20,
   "metadata": {},
   "outputs": [],
   "source": [
    "from understatapi import UnderstatClient\n",
    "import pandas as pd\n",
    "import numpy as np\n",
    "import matplotlib.pyplot as plt\n",
    "import math\n",
    "\n",
    "understat = UnderstatClient()"
   ]
  },
  {
   "cell_type": "markdown",
   "metadata": {},
   "source": [
    "Przykladowy mecz z tego sezonu"
   ]
  },
  {
   "cell_type": "code",
   "execution_count": 21,
   "metadata": {},
   "outputs": [
    {
     "data": {
      "text/plain": [
       "{'id': '26610',\n",
       " 'isResult': True,\n",
       " 'h': {'id': '80', 'title': 'Chelsea', 'short_title': 'CHE'},\n",
       " 'a': {'id': '88', 'title': 'Manchester City', 'short_title': 'MCI'},\n",
       " 'goals': {'h': '0', 'a': '2'},\n",
       " 'xG': {'h': '1.06123', 'a': '1.18038'},\n",
       " 'datetime': '2024-08-18 15:30:00',\n",
       " 'forecast': {'w': '0.3036', 'd': '0.3245', 'l': '0.3719'}}"
      ]
     },
     "execution_count": 21,
     "metadata": {},
     "output_type": "execute_result"
    }
   ],
   "source": [
    "league_data = understat.league(league=\"EPL\").get_match_data(season=\"2024\")\n",
    "\n",
    "league_data[8]"
   ]
  },
  {
   "cell_type": "markdown",
   "metadata": {},
   "source": [
    "funkcja tworzaca dataframe dla wybranej ligi i sezonu"
   ]
  },
  {
   "cell_type": "code",
   "execution_count": 73,
   "metadata": {},
   "outputs": [],
   "source": [
    "def get_league_data(league: str, seasons: list):\n",
    "    understat = UnderstatClient()\n",
    "    all_matches = []\n",
    "    \n",
    "    for season in seasons:\n",
    "        league_data = understat.league(league=league).get_match_data(season=season)\n",
    "        for match in league_data:\n",
    "            # Zdarza się, że w \"forecast\" może nie być danych, więc obsługujemy to przez get() lub warunek\n",
    "            forecast = match.get(\"forecast\", {})\n",
    "            \n",
    "            match_data = {\n",
    "                \"league\": league,\n",
    "                \"season\": season,\n",
    "                \"match_id\": match[\"id\"],\n",
    "                \"date\": match[\"datetime\"],\n",
    "                \"home_team\": match[\"h\"][\"title\"],\n",
    "                \"away_team\": match[\"a\"][\"title\"],\n",
    "                \"home_goals\": match[\"goals\"][\"h\"],\n",
    "                \"away_goals\": match[\"goals\"][\"a\"],\n",
    "                \"home_xG\": match[\"xG\"][\"h\"],\n",
    "                \"away_xG\": match[\"xG\"][\"a\"],\n",
    "                \"win_prob\": forecast.get(\"w\"),   # prawdopodobieństwo zwycięstwa gospodarza według Understat\n",
    "                \"draw_prob\": forecast.get(\"d\"), # prawdopodobieństwo remisu\n",
    "                \"away_win_prob\": forecast.get(\"l\") # prawdopodobieństwo wygranej gości\n",
    "            }\n",
    "            all_matches.append(match_data)\n",
    "\n",
    "    df = pd.DataFrame(all_matches)\n",
    "    return df"
   ]
  },
  {
   "cell_type": "markdown",
   "metadata": {},
   "source": [
    "wezmiemy dane z sezonu 23/24 premier league"
   ]
  },
  {
   "cell_type": "code",
   "execution_count": 74,
   "metadata": {},
   "outputs": [
    {
     "name": "stdout",
     "output_type": "stream",
     "text": [
      "  league season match_id                 date    home_team          away_team  \\\n",
      "0    EPL   2023    22275  2023-08-11 19:00:00      Burnley    Manchester City   \n",
      "1    EPL   2023    22276  2023-08-12 11:30:00      Arsenal  Nottingham Forest   \n",
      "2    EPL   2023    22277  2023-08-12 14:00:00  Bournemouth           West Ham   \n",
      "3    EPL   2023    22278  2023-08-12 14:00:00     Brighton              Luton   \n",
      "4    EPL   2023    22279  2023-08-12 14:00:00      Everton             Fulham   \n",
      "\n",
      "  home_goals away_goals   home_xG   away_xG win_prob draw_prob away_win_prob  \n",
      "0          0          3  0.311032   2.40074   0.0177    0.0854        0.8969  \n",
      "1          2          1   0.84262  0.966305   0.2797    0.3363         0.384  \n",
      "2          1          1   1.51025    1.4834   0.3559    0.3169        0.3272  \n",
      "3          4          1   4.36748   1.88594    0.879    0.0876        0.0334  \n",
      "4          0          1   2.59001   1.58144   0.6371    0.1989         0.164  \n",
      "Data saved.\n"
     ]
    }
   ],
   "source": [
    "seasons = [\"2023\"]\n",
    "df_epl = get_league_data(\"EPL\", seasons)\n",
    "\n",
    "print(df_epl.head())\n",
    "\n",
    "df_epl.to_csv(\"data_epl_2023_2024.csv\", index=False)\n",
    "print(\"Data saved.\")"
   ]
  },
  {
   "cell_type": "code",
   "execution_count": 23,
   "metadata": {},
   "outputs": [
    {
     "name": "stdout",
     "output_type": "stream",
     "text": [
      "<class 'pandas.core.frame.DataFrame'>\n",
      "RangeIndex: 380 entries, 0 to 379\n",
      "Data columns (total 13 columns):\n",
      " #   Column         Non-Null Count  Dtype  \n",
      "---  ------         --------------  -----  \n",
      " 0   league         380 non-null    object \n",
      " 1   season         380 non-null    int64  \n",
      " 2   match_id       380 non-null    int64  \n",
      " 3   date           380 non-null    object \n",
      " 4   home_team      380 non-null    object \n",
      " 5   away_team      380 non-null    object \n",
      " 6   home_goals     380 non-null    int64  \n",
      " 7   away_goals     380 non-null    int64  \n",
      " 8   home_xG        380 non-null    float64\n",
      " 9   away_xG        380 non-null    float64\n",
      " 10  win_prob       380 non-null    float64\n",
      " 11  draw_prob      380 non-null    float64\n",
      " 12  away_win_prob  380 non-null    float64\n",
      "dtypes: float64(5), int64(4), object(4)\n",
      "memory usage: 38.7+ KB\n",
      "None\n",
      "league           0\n",
      "season           0\n",
      "match_id         0\n",
      "date             0\n",
      "home_team        0\n",
      "away_team        0\n",
      "home_goals       0\n",
      "away_goals       0\n",
      "home_xG          0\n",
      "away_xG          0\n",
      "win_prob         0\n",
      "draw_prob        0\n",
      "away_win_prob    0\n",
      "dtype: int64\n"
     ]
    }
   ],
   "source": [
    "df = pd.read_csv(\"data_epl_2023_2024.csv\")\n",
    "print(df.info())\n",
    "print(df.isnull().sum())"
   ]
  },
  {
   "cell_type": "markdown",
   "metadata": {},
   "source": [
    "funkcja tworzaca kolumne wskazujaca na zwyciezce \n",
    " na podstawie zdobytych goli"
   ]
  },
  {
   "cell_type": "code",
   "execution_count": 24,
   "metadata": {},
   "outputs": [
    {
     "data": {
      "text/html": [
       "<div>\n",
       "<style scoped>\n",
       "    .dataframe tbody tr th:only-of-type {\n",
       "        vertical-align: middle;\n",
       "    }\n",
       "\n",
       "    .dataframe tbody tr th {\n",
       "        vertical-align: top;\n",
       "    }\n",
       "\n",
       "    .dataframe thead th {\n",
       "        text-align: right;\n",
       "    }\n",
       "</style>\n",
       "<table border=\"1\" class=\"dataframe\">\n",
       "  <thead>\n",
       "    <tr style=\"text-align: right;\">\n",
       "      <th></th>\n",
       "      <th>league</th>\n",
       "      <th>season</th>\n",
       "      <th>match_id</th>\n",
       "      <th>date</th>\n",
       "      <th>home_team</th>\n",
       "      <th>away_team</th>\n",
       "      <th>home_goals</th>\n",
       "      <th>away_goals</th>\n",
       "      <th>home_xG</th>\n",
       "      <th>away_xG</th>\n",
       "      <th>win_prob</th>\n",
       "      <th>draw_prob</th>\n",
       "      <th>away_win_prob</th>\n",
       "      <th>match_result</th>\n",
       "    </tr>\n",
       "  </thead>\n",
       "  <tbody>\n",
       "    <tr>\n",
       "      <th>0</th>\n",
       "      <td>EPL</td>\n",
       "      <td>2023</td>\n",
       "      <td>22275</td>\n",
       "      <td>2023-08-11 19:00:00</td>\n",
       "      <td>Burnley</td>\n",
       "      <td>Manchester City</td>\n",
       "      <td>0</td>\n",
       "      <td>3</td>\n",
       "      <td>0.311032</td>\n",
       "      <td>2.400740</td>\n",
       "      <td>0.0177</td>\n",
       "      <td>0.0854</td>\n",
       "      <td>0.8969</td>\n",
       "      <td>-1</td>\n",
       "    </tr>\n",
       "    <tr>\n",
       "      <th>1</th>\n",
       "      <td>EPL</td>\n",
       "      <td>2023</td>\n",
       "      <td>22276</td>\n",
       "      <td>2023-08-12 11:30:00</td>\n",
       "      <td>Arsenal</td>\n",
       "      <td>Nottingham Forest</td>\n",
       "      <td>2</td>\n",
       "      <td>1</td>\n",
       "      <td>0.842620</td>\n",
       "      <td>0.966305</td>\n",
       "      <td>0.2797</td>\n",
       "      <td>0.3363</td>\n",
       "      <td>0.3840</td>\n",
       "      <td>1</td>\n",
       "    </tr>\n",
       "    <tr>\n",
       "      <th>2</th>\n",
       "      <td>EPL</td>\n",
       "      <td>2023</td>\n",
       "      <td>22277</td>\n",
       "      <td>2023-08-12 14:00:00</td>\n",
       "      <td>Bournemouth</td>\n",
       "      <td>West Ham</td>\n",
       "      <td>1</td>\n",
       "      <td>1</td>\n",
       "      <td>1.510250</td>\n",
       "      <td>1.483400</td>\n",
       "      <td>0.3559</td>\n",
       "      <td>0.3169</td>\n",
       "      <td>0.3272</td>\n",
       "      <td>0</td>\n",
       "    </tr>\n",
       "    <tr>\n",
       "      <th>3</th>\n",
       "      <td>EPL</td>\n",
       "      <td>2023</td>\n",
       "      <td>22278</td>\n",
       "      <td>2023-08-12 14:00:00</td>\n",
       "      <td>Brighton</td>\n",
       "      <td>Luton</td>\n",
       "      <td>4</td>\n",
       "      <td>1</td>\n",
       "      <td>4.367480</td>\n",
       "      <td>1.885940</td>\n",
       "      <td>0.8790</td>\n",
       "      <td>0.0876</td>\n",
       "      <td>0.0334</td>\n",
       "      <td>1</td>\n",
       "    </tr>\n",
       "    <tr>\n",
       "      <th>4</th>\n",
       "      <td>EPL</td>\n",
       "      <td>2023</td>\n",
       "      <td>22279</td>\n",
       "      <td>2023-08-12 14:00:00</td>\n",
       "      <td>Everton</td>\n",
       "      <td>Fulham</td>\n",
       "      <td>0</td>\n",
       "      <td>1</td>\n",
       "      <td>2.590010</td>\n",
       "      <td>1.581440</td>\n",
       "      <td>0.6371</td>\n",
       "      <td>0.1989</td>\n",
       "      <td>0.1640</td>\n",
       "      <td>-1</td>\n",
       "    </tr>\n",
       "  </tbody>\n",
       "</table>\n",
       "</div>"
      ],
      "text/plain": [
       "  league  season  match_id                date    home_team  \\\n",
       "0    EPL    2023     22275 2023-08-11 19:00:00      Burnley   \n",
       "1    EPL    2023     22276 2023-08-12 11:30:00      Arsenal   \n",
       "2    EPL    2023     22277 2023-08-12 14:00:00  Bournemouth   \n",
       "3    EPL    2023     22278 2023-08-12 14:00:00     Brighton   \n",
       "4    EPL    2023     22279 2023-08-12 14:00:00      Everton   \n",
       "\n",
       "           away_team  home_goals  away_goals   home_xG   away_xG  win_prob  \\\n",
       "0    Manchester City           0           3  0.311032  2.400740    0.0177   \n",
       "1  Nottingham Forest           2           1  0.842620  0.966305    0.2797   \n",
       "2           West Ham           1           1  1.510250  1.483400    0.3559   \n",
       "3              Luton           4           1  4.367480  1.885940    0.8790   \n",
       "4             Fulham           0           1  2.590010  1.581440    0.6371   \n",
       "\n",
       "   draw_prob  away_win_prob  match_result  \n",
       "0     0.0854         0.8969            -1  \n",
       "1     0.3363         0.3840             1  \n",
       "2     0.3169         0.3272             0  \n",
       "3     0.0876         0.0334             1  \n",
       "4     0.1989         0.1640            -1  "
      ]
     },
     "execution_count": 24,
     "metadata": {},
     "output_type": "execute_result"
    }
   ],
   "source": [
    "df['date'] = pd.to_datetime(df['date'])\n",
    "\n",
    "def get_result(row):\n",
    "    if row['home_goals'] > row['away_goals']:\n",
    "        return 1\n",
    "    elif row['home_goals'] < row['away_goals']:\n",
    "        return -1\n",
    "    else:\n",
    "        return 0\n",
    "\n",
    "\n",
    "df['match_result'] = df.apply(get_result, axis=1)\n",
    "\n",
    "df.head()\n"
   ]
  },
  {
   "cell_type": "code",
   "execution_count": 25,
   "metadata": {},
   "outputs": [
    {
     "name": "stdout",
     "output_type": "stream",
     "text": [
      "       home_goals  away_goals     home_xG     away_xG\n",
      "count  380.000000  380.000000  380.000000  380.000000\n",
      "mean     1.800000    1.478947    1.922032    1.458510\n",
      "std      1.365616    1.277811    1.033890    0.899809\n",
      "min      0.000000    0.000000    0.088624    0.028155\n",
      "25%      1.000000    1.000000    1.110132    0.802416\n",
      "50%      2.000000    1.000000    1.762235    1.291850\n",
      "75%      3.000000    2.000000    2.628137    1.929960\n",
      "max      6.000000    8.000000    6.671510    5.108200\n"
     ]
    }
   ],
   "source": [
    "print(df[[\"home_goals\",\"away_goals\",\"home_xG\",\"away_xG\"]].describe())"
   ]
  },
  {
   "cell_type": "code",
   "execution_count": 27,
   "metadata": {},
   "outputs": [
    {
     "name": "stdout",
     "output_type": "stream",
     "text": [
      "Korelacja home_xG z home_goals: 0.5931873663538461\n",
      "Korelacja away_xG z away_goals: 0.6510022495076635\n"
     ]
    }
   ],
   "source": [
    "corr_home = df[\"home_xG\"].corr(df[\"home_goals\"])\n",
    "corr_away = df[\"away_xG\"].corr(df[\"away_goals\"])\n",
    "print(\"Korelacja home_xG z home_goals:\", corr_home)\n",
    "print(\"Korelacja away_xG z away_goals:\", corr_away)"
   ]
  },
  {
   "cell_type": "code",
   "execution_count": 28,
   "metadata": {},
   "outputs": [
    {
     "data": {
      "image/png": "[encoded data removed]",
      "text/plain": [
       "<Figure size 640x480 with 1 Axes>"
      ]
     },
     "metadata": {},
     "output_type": "display_data"
    }
   ],
   "source": [
    "df[\"home_goals\"].hist(bins=range(0,10), alpha=0.5)\n",
    "plt.title(\"Rozkład Home Goals\")\n",
    "plt.show()"
   ]
  },
  {
   "cell_type": "markdown",
   "metadata": {},
   "source": [
    "poisson oraz funkcja tworzaca prawdopodobienstwa wyniku meczu"
   ]
  },
  {
   "cell_type": "code",
   "execution_count": null,
   "metadata": {},
   "outputs": [
    {
     "name": "stdout",
     "output_type": "stream",
     "text": [
      "0.8467967676284069 0.11870939009600155 0.03335358934801916 0.9988597470724276\n"
     ]
    }
   ],
   "source": [
    "def poisson_prob(k, lam):\n",
    "    return (math.exp(-lam) * (lam**k)) / math.factorial(k)\n",
    "\n",
    "\n",
    "def predict_match_poisson(home_xg, away_xg, max_goals=8):\n",
    "    p_home_win = 0\n",
    "    p_draw = 0\n",
    "    p_away_win = 0\n",
    "\n",
    "    for h_goals in range(max_goals+1):\n",
    "        for a_goals in range(max_goals+1):\n",
    "            ph = poisson_prob(h_goals, home_xg)\n",
    "            pa = poisson_prob(a_goals, away_xg)\n",
    "            p = ph * pa\n",
    "\n",
    "            if h_goals > a_goals:\n",
    "                p_home_win += p\n",
    "            elif h_goals == a_goals:\n",
    "                p_draw += p\n",
    "            else:\n",
    "                p_away_win += p\n",
    "\n",
    "    return p_home_win, p_draw, p_away_win\n",
    "\n",
    "\n",
    "home_xg_example = 2.5\n",
    "away_xg_example = 0.33\n",
    "p_home_win, p_draw, p_away_win = predict_match_poisson(home_xg_example, away_xg_example)\n",
    "print(p_home_win, p_draw, p_away_win, (p_home_win + p_draw + p_away_win))\n"
   ]
  },
  {
   "cell_type": "markdown",
   "metadata": {},
   "source": [
    "skutecznosc na poziomie calego sezonu"
   ]
  },
  {
   "cell_type": "code",
   "execution_count": 32,
   "metadata": {},
   "outputs": [
    {
     "name": "stdout",
     "output_type": "stream",
     "text": [
      "Accuracy modelu Poissona: 62.63%\n"
     ]
    }
   ],
   "source": [
    "correct = 0\n",
    "total = 0\n",
    "\n",
    "for i, row in df.iterrows():\n",
    "    hxg = row[\"home_xG\"]\n",
    "    axg = row[\"away_xG\"]\n",
    "    p_home, p_draw, p_away = predict_match_poisson(hxg, axg)\n",
    "\n",
    "    # przewidywany wynik = kto ma najwyższe p\n",
    "    if p_home > p_draw and p_home > p_away:\n",
    "        pred = 1\n",
    "    elif p_draw > p_home and p_draw > p_away:\n",
    "        pred = 0\n",
    "    else:\n",
    "        pred = -1\n",
    "\n",
    "    actual = row[\"match_result\"]\n",
    "    if pred == actual:\n",
    "        correct += 1\n",
    "    total += 1\n",
    "\n",
    "accuracy = correct / total * 100\n",
    "print(f\"Accuracy modelu Poissona: {accuracy:.2f}%\")\n"
   ]
  },
  {
   "cell_type": "markdown",
   "metadata": {},
   "source": [
    "tworzymy nowy df zawierajacy kolumny: druzyne, srednie xG i srednie xG allowed (potrzebnne do modelu SxGM)"
   ]
  },
  {
   "cell_type": "code",
   "execution_count": null,
   "metadata": {},
   "outputs": [
    {
     "data": {
      "text/html": [
       "<div>\n",
       "<style scoped>\n",
       "    .dataframe tbody tr th:only-of-type {\n",
       "        vertical-align: middle;\n",
       "    }\n",
       "\n",
       "    .dataframe tbody tr th {\n",
       "        vertical-align: top;\n",
       "    }\n",
       "\n",
       "    .dataframe thead th {\n",
       "        text-align: right;\n",
       "    }\n",
       "</style>\n",
       "<table border=\"1\" class=\"dataframe\">\n",
       "  <thead>\n",
       "    <tr style=\"text-align: right;\">\n",
       "      <th></th>\n",
       "      <th>team</th>\n",
       "      <th>xG</th>\n",
       "      <th>xGA</th>\n",
       "    </tr>\n",
       "  </thead>\n",
       "  <tbody>\n",
       "    <tr>\n",
       "      <th>0</th>\n",
       "      <td>Arsenal</td>\n",
       "      <td>2.220855</td>\n",
       "      <td>0.836372</td>\n",
       "    </tr>\n",
       "    <tr>\n",
       "      <th>1</th>\n",
       "      <td>Aston Villa</td>\n",
       "      <td>1.774279</td>\n",
       "      <td>1.712521</td>\n",
       "    </tr>\n",
       "    <tr>\n",
       "      <th>2</th>\n",
       "      <td>Bournemouth</td>\n",
       "      <td>1.677775</td>\n",
       "      <td>1.723886</td>\n",
       "    </tr>\n",
       "    <tr>\n",
       "      <th>3</th>\n",
       "      <td>Brentford</td>\n",
       "      <td>1.691886</td>\n",
       "      <td>1.585807</td>\n",
       "    </tr>\n",
       "    <tr>\n",
       "      <th>4</th>\n",
       "      <td>Brighton</td>\n",
       "      <td>1.629221</td>\n",
       "      <td>1.603610</td>\n",
       "    </tr>\n",
       "    <tr>\n",
       "      <th>5</th>\n",
       "      <td>Burnley</td>\n",
       "      <td>1.143213</td>\n",
       "      <td>1.992587</td>\n",
       "    </tr>\n",
       "    <tr>\n",
       "      <th>6</th>\n",
       "      <td>Chelsea</td>\n",
       "      <td>2.128461</td>\n",
       "      <td>1.647380</td>\n",
       "    </tr>\n",
       "    <tr>\n",
       "      <th>7</th>\n",
       "      <td>Crystal Palace</td>\n",
       "      <td>1.419354</td>\n",
       "      <td>1.526075</td>\n",
       "    </tr>\n",
       "    <tr>\n",
       "      <th>8</th>\n",
       "      <td>Everton</td>\n",
       "      <td>1.598794</td>\n",
       "      <td>1.585713</td>\n",
       "    </tr>\n",
       "    <tr>\n",
       "      <th>9</th>\n",
       "      <td>Fulham</td>\n",
       "      <td>1.389703</td>\n",
       "      <td>1.760635</td>\n",
       "    </tr>\n",
       "    <tr>\n",
       "      <th>10</th>\n",
       "      <td>Liverpool</td>\n",
       "      <td>2.494348</td>\n",
       "      <td>1.247336</td>\n",
       "    </tr>\n",
       "    <tr>\n",
       "      <th>11</th>\n",
       "      <td>Luton</td>\n",
       "      <td>1.312433</td>\n",
       "      <td>2.411782</td>\n",
       "    </tr>\n",
       "    <tr>\n",
       "      <th>12</th>\n",
       "      <td>Manchester City</td>\n",
       "      <td>2.356546</td>\n",
       "      <td>0.980827</td>\n",
       "    </tr>\n",
       "    <tr>\n",
       "      <th>13</th>\n",
       "      <td>Manchester United</td>\n",
       "      <td>1.587629</td>\n",
       "      <td>1.967391</td>\n",
       "    </tr>\n",
       "    <tr>\n",
       "      <th>14</th>\n",
       "      <td>Newcastle United</td>\n",
       "      <td>2.223101</td>\n",
       "      <td>1.643557</td>\n",
       "    </tr>\n",
       "    <tr>\n",
       "      <th>15</th>\n",
       "      <td>Nottingham Forest</td>\n",
       "      <td>1.372561</td>\n",
       "      <td>1.480300</td>\n",
       "    </tr>\n",
       "    <tr>\n",
       "      <th>16</th>\n",
       "      <td>Sheffield United</td>\n",
       "      <td>1.087007</td>\n",
       "      <td>2.255453</td>\n",
       "    </tr>\n",
       "    <tr>\n",
       "      <th>17</th>\n",
       "      <td>Tottenham</td>\n",
       "      <td>1.930310</td>\n",
       "      <td>1.791202</td>\n",
       "    </tr>\n",
       "    <tr>\n",
       "      <th>18</th>\n",
       "      <td>West Ham</td>\n",
       "      <td>1.434989</td>\n",
       "      <td>2.050204</td>\n",
       "    </tr>\n",
       "    <tr>\n",
       "      <th>19</th>\n",
       "      <td>Wolverhampton Wanderers</td>\n",
       "      <td>1.332954</td>\n",
       "      <td>2.002784</td>\n",
       "    </tr>\n",
       "  </tbody>\n",
       "</table>\n",
       "</div>"
      ],
      "text/plain": [
       "                       team        xG       xGA\n",
       "0                   Arsenal  2.220855  0.836372\n",
       "1               Aston Villa  1.774279  1.712521\n",
       "2               Bournemouth  1.677775  1.723886\n",
       "3                 Brentford  1.691886  1.585807\n",
       "4                  Brighton  1.629221  1.603610\n",
       "5                   Burnley  1.143213  1.992587\n",
       "6                   Chelsea  2.128461  1.647380\n",
       "7            Crystal Palace  1.419354  1.526075\n",
       "8                   Everton  1.598794  1.585713\n",
       "9                    Fulham  1.389703  1.760635\n",
       "10                Liverpool  2.494348  1.247336\n",
       "11                    Luton  1.312433  2.411782\n",
       "12          Manchester City  2.356546  0.980827\n",
       "13        Manchester United  1.587629  1.967391\n",
       "14         Newcastle United  2.223101  1.643557\n",
       "15        Nottingham Forest  1.372561  1.480300\n",
       "16         Sheffield United  1.087007  2.255453\n",
       "17                Tottenham  1.930310  1.791202\n",
       "18                 West Ham  1.434989  2.050204\n",
       "19  Wolverhampton Wanderers  1.332954  2.002784"
      ]
     },
     "execution_count": 52,
     "metadata": {},
     "output_type": "execute_result"
    }
   ],
   "source": [
    "rows = []\n",
    "\n",
    "for i, row in df.iterrows():\n",
    "    home_team = row[\"home_team\"]\n",
    "    away_team = row[\"away_team\"]\n",
    "    \n",
    "    home_xg = row[\"home_xG\"]\n",
    "    away_xg = row[\"away_xG\"]\n",
    "\n",
    "    rows.append({\n",
    "        \"team\": home_team,\n",
    "        \"xG\": home_xg,\n",
    "        \"xGA\": away_xg  \n",
    "    })\n",
    "    rows.append({\n",
    "        \"team\": away_team,\n",
    "        \"xG\": away_xg,\n",
    "        \"xGA\": home_xg\n",
    "    })\n",
    "\n",
    "df_teams = pd.DataFrame(rows)\n",
    "df_teams['xG'] = df_teams['xG'].astype(float)\n",
    "df_teams['xGA'] = df_teams['xGA'].astype(float)\n",
    "\n",
    "df_team_avg = df_teams.groupby(\"team\", as_index=False).mean()\n",
    "\n",
    "df_team_avg"
   ]
  },
  {
   "cell_type": "markdown",
   "metadata": {},
   "source": [
    "skutecznosc zwyklego xGM oraz modyfikacji - SxGM"
   ]
  },
  {
   "cell_type": "code",
   "execution_count": 72,
   "metadata": {},
   "outputs": [
    {
     "name": "stdout",
     "output_type": "stream",
     "text": [
      "Liczba meczów: 380\n",
      "Accuracy (xGM):  62.63%\n",
      "Accuracy (SxGM): 62.89%\n"
     ]
    }
   ],
   "source": [
    "correct_xGM = 0\n",
    "correct_sxGM = 0\n",
    "total = 0\n",
    "\n",
    "for i, row in df.iterrows():\n",
    "    home_team = row[\"home_team\"]\n",
    "    away_team = row[\"away_team\"]\n",
    "    hxg = row[\"home_xG\"]  \n",
    "    axg = row[\"away_xG\"] \n",
    "    actual_result = row[\"match_result\"]  \n",
    "\n",
    "\n",
    "    p_home, p_draw, p_away = predict_match_poisson(hxg, axg)\n",
    "    if p_home > p_draw and p_home > p_away:\n",
    "        pred_xGM = 1\n",
    "    elif p_draw > p_home and p_draw > p_away:\n",
    "        pred_xGM = 0\n",
    "    else:\n",
    "        pred_xGM = -1\n",
    "    \n",
    "    if pred_xGM == actual_result:\n",
    "        correct_xGM += 1\n",
    "\n",
    "\n",
    "    away_xGA_arr = df_team_avg.loc[df_team_avg[\"team\"] == away_team, \"xGA\"].values\n",
    "    home_xGA_arr = df_team_avg.loc[df_team_avg[\"team\"] == home_team, \"xGA\"].values\n",
    "    \n",
    "    away_xGA = away_xGA_arr[0] \n",
    "    home_xGA = home_xGA_arr[0]  \n",
    "    \n",
    "    lam_home_SxGM = hxg * away_xGA\n",
    "    lam_away_SxGM = axg * home_xGA\n",
    "    \n",
    "    p_home_s, p_draw_s, p_away_s = predict_match_poisson(lam_home_SxGM, lam_away_SxGM)\n",
    "    if p_home_s > p_draw_s and p_home_s > p_away_s:\n",
    "        pred_sxGM = 1\n",
    "    elif p_draw_s > p_home_s and p_draw_s > p_away_s:\n",
    "        pred_sxGM = 0\n",
    "    else:\n",
    "        pred_sxGM = -1\n",
    "\n",
    "    if pred_sxGM == actual_result:\n",
    "        correct_sxGM += 1\n",
    "    \n",
    "    total += 1\n",
    "\n",
    "acc_xGM = correct_xGM / total * 100 \n",
    "acc_sxGM = correct_sxGM / total * 100 \n",
    "\n",
    "print(f\"Liczba meczów: {total}\")\n",
    "print(f\"Accuracy (xGM):  {acc_xGM:.2f}%\")\n",
    "print(f\"Accuracy (SxGM): {acc_sxGM:.2f}%\")\n"
   ]
  }
 ],
 "metadata": {
  "kernelspec": {
   "display_name": "Python 3",
   "language": "python",
   "name": "python3"
  },
  "language_info": {
   "codemirror_mode": {
    "name": "ipython",
    "version": 3
   },
   "file_extension": ".py",
   "mimetype": "text/x-python",
   "name": "python",
   "nbconvert_exporter": "python",
   "pygments_lexer": "ipython3",
   "version": "3.12.7"
  }
 },
 "nbformat": 4,
 "nbformat_minor": 2
}
